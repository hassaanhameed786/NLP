{
  "nbformat": 4,
  "nbformat_minor": 0,
  "metadata": {
    "colab": {
      "name": "regexpp.ipynb",
      "provenance": [],
      "authorship_tag": "ABX9TyN8EuY0NkJ3XkueW7F2ACgq",
      "include_colab_link": true
    },
    "kernelspec": {
      "name": "python3",
      "display_name": "Python 3"
    },
    "language_info": {
      "name": "python"
    }
  },
  "cells": [
    {
      "cell_type": "markdown",
      "metadata": {
        "id": "view-in-github",
        "colab_type": "text"
      },
      "source": [
        "<a href=\"https://colab.research.google.com/github/hassaanhameed786/NLP/blob/main/regexpp.ipynb\" target=\"_parent\"><img src=\"https://colab.research.google.com/assets/colab-badge.svg\" alt=\"Open In Colab\"/></a>"
      ]
    },
    {
      "cell_type": "markdown",
      "source": [
        "# Regular expressions \n"
      ],
      "metadata": {
        "id": "TcQJKIDSwNqT"
      }
    },
    {
      "cell_type": "markdown",
      "source": [
        "egular Expression FUll Cheatsheet (For quick look) :)\n",
        "note: for downloading visit https://buggyprogrammer.com/regular-expression-cheatsheet/\n",
        "------x-------------------x----------------x------------x----------------x-------------\n",
        "\n",
        "# -------------- Anchors --------------\n",
        "^   →  Start of string, or start of line in multiline pattern\n",
        "\\A  →  Start of string\n",
        "$   →  End of string, or end of line in multi-line pattern\n",
        "\\Z  →  End of string\n",
        "\\b  →  Word boundary\n",
        "\\B  →  Not word boundary\n",
        "\\<  →  Start of word\n",
        "\\>  →  End of word\n",
        "\n",
        "\n",
        "# ---------- Character Classes --------\n",
        "\\c  →  Control character\n",
        "\\s  →  White space\n",
        "\\S  →  Not white space\n",
        "\\d  →  Digit\n",
        "\\D  →  Not digit\n",
        "\\w  →  Word\n",
        "\\W  →  Not word\n",
        "\\x  →  Hexadecimal digit\n",
        "\\O  →  Octal digit\n",
        "\n",
        "\n",
        "# --------- Quantifiers -----------------\n",
        "*     →    0 or more \n",
        "{3}   →    Exactly 3\n",
        "+     →    1 or more \n",
        "{3,}  →    3 or more\n",
        "?     →    0 or 1 \n",
        "{3,5} →    3, 4 or 5\n",
        "Add a ? to a quantifier to make it ungreedy.\n",
        "\n",
        "\n",
        "# ------- Special Characters -------------\n",
        "\\n   →  New line\n",
        "\\r   →  Carriage return\n",
        "\\t   →  Tab\n",
        "\\v   →  Vertical tab\n",
        "\\f   →  Form feed\n",
        "\\xxx →  Octal character xxx\n",
        "\\xhh →  Hex character hh\n",
        "\n",
        "\n",
        "# --------- Groups and Ranges -------------\n",
        ".       →  Any character except new line (\\n)\n",
        "(a|b)   →  a or b\n",
        "(...)   →  Group\n",
        "(?:...) →  Passive (non-capturing) group\n",
        "[abc]   →  Range (a or b or c)\n",
        "[^abc]  →  Not (a or b or c)\n",
        "[a-q]   →  Lower case letter from a to q\n",
        "[A-Q]   →  Upper case letter from A to Q\n",
        "[0-7]   →  Digit from 0 to 7\n",
        "\\x      →  Group/subpattern number \"x\"\n",
        "Ranges are inclusive.\n",
        "\n",
        "\n",
        "# ----------- Assertions ---------------\n",
        "?=         →  Lookahead assertion\n",
        "?!         →  Negative lookahead\n",
        "?<=        →  Lookbehind assertion\n",
        "?!= or ?<! →  Negative lookbehind\n",
        "?>         →  Once-only Subexpression\n",
        "?()        →  Condition [if then]\n",
        "?()|       →  Condition [if then else]\n",
        "?#         →  Comment\n",
        "\n",
        "\n",
        "# ------ Pattern Modifiers --------\n",
        "g   →  Global match\n",
        "i*  →  Case-insensitive\n",
        "m*  →  Multiple lines\n",
        "s*  →  Treat string as single line\n",
        "x*  →  Allow comments and whitespace in pattern\n",
        "e*  →  Evaluate replacement\n",
        "U*  →  Ungreedy pattern\n",
        "*   →  PCRE modifier\n",
        "\n",
        "\n",
        "# ------ String Replacement ------\n",
        "$n  →  nth non-passive group\n",
        "$2  →  \"xyz\" in /^(abc(xyz))$/\n",
        "$1  →  \"xyz\" in /^(?:abc)(xyz)$/\n",
        "$`  →  Before matched string\n",
        "$'  →  After matched string\n",
        "$+  →  Last matched string\n",
        "$&  →  Entire matched string\n",
        "Some regex implementations use \\ instead of $\n",
        "\n",
        "\n",
        "# ---------- Escape Sequences ------------\n",
        "\\ Escape following character\n",
        "\\Q Begin literal sequence\n",
        "\\E End literal sequence\n",
        "\n",
        "\"Escaping\" is a way of treating characters which have a special meaning in regular\n",
        "expressions literally, rather than as special characters.\n",
        "\n",
        "\n",
        "# --------- Common Metacharacters ---------\n",
        "^ \n",
        "[\n",
        ".\n",
        "$\n",
        "{\n",
        "*\n",
        "(\n",
        "\\\n",
        "+\n",
        ")\n",
        "|\n",
        "<\n",
        ">\n",
        "The escape character is usually \\\n",
        "\n",
        "\n",
        "# ------------ POSIX ----------------\n",
        "[:upper:]  →  Upper case letters\n",
        "[:lower:]  →  Lower case letters\n",
        "[:alpha:]  →  All letters\n",
        "[:alnum:]  →  Digits and letters\n",
        "[:digit:]  →  Digits\n",
        "[:xdigit:] →  Hexadecimal digits\n",
        "[:punct:]  →  Punctuation\n",
        "[:blank:]  →  Space and tab\n",
        "[:space:]  →  Blank characters\n",
        "[:cntrl:]  →  Control characters\n",
        "[:graph:]  →  Printed characters\n",
        "[:print:]  →  Printed characters and spaces\n",
        "[:word:]   →  Digits, letters and underscore"
      ],
      "metadata": {
        "id": "I4sAAhWLwZdv"
      }
    },
    {
      "cell_type": "code",
      "execution_count": 1,
      "metadata": {
        "id": "k51JFS9KsiKz"
      },
      "outputs": [],
      "source": [
        "import re "
      ]
    },
    {
      "cell_type": "code",
      "source": [
        "regexp = re.compile(r\"ab[^\\s]cd\")"
      ],
      "metadata": {
        "id": "R7JqQZdts0f6"
      },
      "execution_count": 2,
      "outputs": []
    },
    {
      "cell_type": "code",
      "source": [
        "languages = [\"abcd\", \"abccdd\", \"aaacdd\",\"ab cd\", \"xxabcdxxx\", \"hhhhabcdhhh\"]\n",
        "match =[]"
      ],
      "metadata": {
        "id": "4waAgEZ6tKaJ"
      },
      "execution_count": 10,
      "outputs": []
    },
    {
      "cell_type": "code",
      "source": [
        ""
      ],
      "metadata": {
        "colab": {
          "base_uri": "https://localhost:8080/"
        },
        "id": "HwCQDJa4tceG",
        "outputId": "953129b8-1aff-4ed5-d7c4-8b7c66c78c10"
      },
      "execution_count": 12,
      "outputs": [
        {
          "output_type": "stream",
          "name": "stdout",
          "text": [
            "['abccdd', 'abccdd']\n"
          ]
        }
      ]
    },
    {
      "cell_type": "code",
      "source": [
        "import re \n",
        "#regexp = re.compile(r\"ab[^\\s]cd\")\n",
        "\n",
        "regexp = re.compile(r\"read|story|hello|books \")\n",
        "\n",
        "#languages = [\"abcd\", \"abccdd\", \"aaacdd\",\"ab cd\", \"xxabcdxxx\", \"hhhhabcdhhh\"]\n",
        "languages = [\"i like to read books\", \"hello i m hassaan\", \"story telling\"]\n",
        "match =[]\n",
        "\n",
        "for language in languages:\n",
        "  if re.match(regexp,language):\n",
        "    match.append(language)\n",
        "print(match)\n"
      ],
      "metadata": {
        "colab": {
          "base_uri": "https://localhost:8080/"
        },
        "id": "6Ndfi57ftvXs",
        "outputId": "a2e33e4d-6a1d-4942-97a5-2f8cc1fec29a"
      },
      "execution_count": 15,
      "outputs": [
        {
          "output_type": "stream",
          "name": "stdout",
          "text": [
            "['hello i m hassaan', 'story telling']\n"
          ]
        }
      ]
    },
    {
      "cell_type": "code",
      "source": [
        ""
      ],
      "metadata": {
        "id": "ebvxMl_gwMBJ"
      },
      "execution_count": null,
      "outputs": []
    },
    {
      "cell_type": "markdown",
      "source": [
        ""
      ],
      "metadata": {
        "id": "RV4VI5KIwMaW"
      }
    },
    {
      "cell_type": "code",
      "source": [
        ""
      ],
      "metadata": {
        "id": "coYRlohhvkmR"
      },
      "execution_count": null,
      "outputs": []
    }
  ]
}