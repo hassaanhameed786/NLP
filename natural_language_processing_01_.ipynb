{
  "nbformat": 4,
  "nbformat_minor": 0,
  "metadata": {
    "colab": {
      "name": "natural_language_processing_01 .ipynb",
      "provenance": [],
      "collapsed_sections": [],
      "authorship_tag": "ABX9TyPr/ikUcbgsKhpteUZbAnsO",
      "include_colab_link": true
    },
    "kernelspec": {
      "name": "python3",
      "display_name": "Python 3"
    },
    "language_info": {
      "name": "python"
    }
  },
  "cells": [
    {
      "cell_type": "markdown",
      "metadata": {
        "id": "view-in-github",
        "colab_type": "text"
      },
      "source": [
        "<a href=\"https://colab.research.google.com/github/hassaanhameed786/NLP/blob/main/natural_language_processing_01_.ipynb\" target=\"_parent\"><img src=\"https://colab.research.google.com/assets/colab-badge.svg\" alt=\"Open In Colab\"/></a>"
      ]
    },
    {
      "cell_type": "markdown",
      "source": [
        "# Bag of words (NLP Basics)"
      ],
      "metadata": {
        "id": "jZJSqfPD_HBy"
      }
    },
    {
      "cell_type": "code",
      "execution_count": 39,
      "metadata": {
        "id": "FKfaMGrK4msh"
      },
      "outputs": [],
      "source": [
        "from sklearn.feature_extraction.text import CountVectorizer\n",
        "import numpy as np"
      ]
    },
    {
      "cell_type": "markdown",
      "source": [
        "treat each sentence as a separate document and we make a list of all words from all the four documents excluding the punctuation "
      ],
      "metadata": {
        "id": "TNcNqG947cgJ"
      }
    },
    {
      "cell_type": "code",
      "source": [
        "class Category:\n",
        "  BOOKS =  \"BOOKS\"\n",
        "  CLOTHING = \"CLOTHING\"\n",
        "train_x = [\"I love the book\", \"this is the great book\", \"the fit is great\", \"i love my shoes\" ,  \"i like to read books\", \"t-shirt are best to fit\"]\n",
        "train_y = [Category.BOOKS, Category.BOOKS, Category.CLOTHING, Category.CLOTHING , Category.BOOKS, Category.CLOTHING]"
      ],
      "metadata": {
        "id": "WAGGrSqA41wF"
      },
      "execution_count": 76,
      "outputs": []
    },
    {
      "cell_type": "markdown",
      "source": [
        "['book', 'fit', 'great', 'is', 'love', 'my', 'shoes', 'the', 'this']"
      ],
      "metadata": {
        "id": "PBx_gUlG8D7R"
      }
    },
    {
      "cell_type": "markdown",
      "source": [
        " converting NLP text into numbers is called vectorization in ML"
      ],
      "metadata": {
        "id": "LCf5vSZD-UMD"
      }
    },
    {
      "cell_type": "code",
      "source": [
        "vectorizer = CountVectorizer() # object\n"
      ],
      "metadata": {
        "id": "424sNian4yrU"
      },
      "execution_count": 62,
      "outputs": []
    },
    {
      "cell_type": "markdown",
      "source": [
        " create vectors,Vectors convert text that can be used by the machine learning algorithm.*italicized text*"
      ],
      "metadata": {
        "id": "-oafayzH7sFK"
      }
    },
    {
      "cell_type": "code",
      "source": [
        "vectors = vectorizer.fit_transform(train_x) # Learn the vocabulary dictionary and return document-term matrix.\n"
      ],
      "metadata": {
        "id": "SxXW8Xu052b8"
      },
      "execution_count": 63,
      "outputs": []
    },
    {
      "cell_type": "markdown",
      "source": [
        "We take the first document heck the frequency of words from the  unique words."
      ],
      "metadata": {
        "id": "xhSkn3xV7zOs"
      }
    },
    {
      "cell_type": "code",
      "source": [
        "print(vectors[0])"
      ],
      "metadata": {
        "id": "whOZJkPH6BnK"
      },
      "execution_count": null,
      "outputs": []
    },
    {
      "cell_type": "code",
      "source": [
        "print(vectors[1])"
      ],
      "metadata": {
        "id": "FCJ_AeLE9FRp"
      },
      "execution_count": null,
      "outputs": []
    },
    {
      "cell_type": "code",
      "source": [
        "print(vectors.toarray())\n"
      ],
      "metadata": {
        "id": "pDTSqMip6LBQ"
      },
      "execution_count": null,
      "outputs": []
    },
    {
      "cell_type": "code",
      "source": [
        "train_x"
      ],
      "metadata": {
        "colab": {
          "base_uri": "https://localhost:8080/"
        },
        "id": "X6rxmF0iAVeC",
        "outputId": "3d7c5e0e-10b1-41da-ec45-6442810ce37f"
      },
      "execution_count": 67,
      "outputs": [
        {
          "output_type": "execute_result",
          "data": {
            "text/plain": [
              "['I love the book',\n",
              " 'this is the great book',\n",
              " 'the fit is great',\n",
              " 'i love my shoes']"
            ]
          },
          "metadata": {},
          "execution_count": 67
        }
      ]
    },
    {
      "cell_type": "markdown",
      "source": [
        " [\"I love the book\", \"this is the great book\",\"the fit is great\", \"i love my shoes\" ]"
      ],
      "metadata": {
        "id": "ehwDpO5qDBIP"
      }
    },
    {
      "cell_type": "code",
      "source": [
        "print(vectorizer.get_feature_names())\n",
        "print(vectors.toarray())"
      ],
      "metadata": {
        "colab": {
          "base_uri": "https://localhost:8080/"
        },
        "id": "2pV7McORAVgZ",
        "outputId": "09a86f4e-0376-4109-e3b8-b5b732d8374c"
      },
      "execution_count": 68,
      "outputs": [
        {
          "output_type": "stream",
          "name": "stdout",
          "text": [
            "['book', 'fit', 'great', 'is', 'love', 'my', 'shoes', 'the', 'this']\n",
            "[[1 0 0 0 1 0 0 1 0]\n",
            " [1 0 1 1 0 0 0 1 1]\n",
            " [0 1 1 1 0 0 0 1 0]\n",
            " [0 0 0 0 1 1 1 0 0]]\n"
          ]
        },
        {
          "output_type": "stream",
          "name": "stderr",
          "text": [
            "/usr/local/lib/python3.7/dist-packages/sklearn/utils/deprecation.py:87: FutureWarning: Function get_feature_names is deprecated; get_feature_names is deprecated in 1.0 and will be removed in 1.2. Please use get_feature_names_out instead.\n",
            "  warnings.warn(msg, category=FutureWarning)\n"
          ]
        }
      ]
    },
    {
      "cell_type": "markdown",
      "source": [
        "# Classification of the data"
      ],
      "metadata": {
        "id": "1U7SGh3NGelN"
      }
    },
    {
      "cell_type": "code",
      "source": [
        "from sklearn import svm"
      ],
      "metadata": {
        "id": "oI5hYEI2AVji"
      },
      "execution_count": 69,
      "outputs": []
    },
    {
      "cell_type": "code",
      "source": [
        "clf_svm =svm.SVC(kernel='linear')\n"
      ],
      "metadata": {
        "id": "G4qhKMqWAVmU"
      },
      "execution_count": 70,
      "outputs": []
    },
    {
      "cell_type": "code",
      "source": [
        "\n",
        "vectorizer = CountVectorizer() # object \n",
        "train_x_vectors = vectorizer.fit_transform(train_x)\n"
      ],
      "metadata": {
        "id": "UXkTRbs6HGYN"
      },
      "execution_count": 77,
      "outputs": []
    },
    {
      "cell_type": "code",
      "source": [
        "clf_svm.fit(train_x_vectors, train_y)"
      ],
      "metadata": {
        "colab": {
          "base_uri": "https://localhost:8080/"
        },
        "id": "f9K3YEXmG3Vy",
        "outputId": "8b1dace2-668f-4cee-c4bc-000972f6f5bd"
      },
      "execution_count": 78,
      "outputs": [
        {
          "output_type": "execute_result",
          "data": {
            "text/plain": [
              "SVC(kernel='linear')"
            ]
          },
          "metadata": {},
          "execution_count": 78
        }
      ]
    },
    {
      "cell_type": "code",
      "source": [
        "# test_x =vectorizer.transform(['sport shoes are good for walk'])"
      ],
      "metadata": {
        "id": "3LAH2-x9H-tc"
      },
      "execution_count": 79,
      "outputs": []
    },
    {
      "cell_type": "code",
      "source": [
        "test_x =vectorizer.transform(['reading book is a good habbit'])"
      ],
      "metadata": {
        "id": "v9sgEcOhIhAR"
      },
      "execution_count": 90,
      "outputs": []
    },
    {
      "cell_type": "code",
      "source": [
        "# test_x =vectorizer.transform(['the best book for nlp is '])"
      ],
      "metadata": {
        "id": "1Pj8RZ0bH-vw"
      },
      "execution_count": 91,
      "outputs": []
    },
    {
      "cell_type": "code",
      "source": [
        "clf_svm.predict(test_x)"
      ],
      "metadata": {
        "colab": {
          "base_uri": "https://localhost:8080/"
        },
        "id": "akc-haaaG3X8",
        "outputId": "2836fd4b-3e86-4609-ebe1-757615049c8f"
      },
      "execution_count": 92,
      "outputs": [
        {
          "output_type": "execute_result",
          "data": {
            "text/plain": [
              "array(['BOOKS'], dtype='<U8')"
            ]
          },
          "metadata": {},
          "execution_count": 92
        }
      ]
    },
    {
      "cell_type": "code",
      "source": [
        "test_x =vectorizer.transform(['reading books is a good habbit'])"
      ],
      "metadata": {
        "id": "bA4xhMA5I1JO"
      },
      "execution_count": 93,
      "outputs": []
    },
    {
      "cell_type": "markdown",
      "source": [
        "in this case get not predict accurate because in our vec no words similar to books :"
      ],
      "metadata": {
        "id": "TqSRTglKI5ig"
      }
    },
    {
      "cell_type": "code",
      "source": [
        "clf_svm.predict(test_x)"
      ],
      "metadata": {
        "colab": {
          "base_uri": "https://localhost:8080/"
        },
        "id": "ZGFjZqaqG3a-",
        "outputId": "dcd3e64f-d043-4ba7-f1ff-eb02c63809d4"
      },
      "execution_count": 95,
      "outputs": [
        {
          "output_type": "execute_result",
          "data": {
            "text/plain": [
              "array(['CLOTHING'], dtype='<U8')"
            ]
          },
          "metadata": {},
          "execution_count": 95
        }
      ]
    },
    {
      "cell_type": "markdown",
      "source": [
        ""
      ],
      "metadata": {
        "id": "DlNT3wpk7bkP"
      }
    }
  ]
}