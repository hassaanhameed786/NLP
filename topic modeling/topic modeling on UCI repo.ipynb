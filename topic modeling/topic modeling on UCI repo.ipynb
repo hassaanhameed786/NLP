{
 "cells": [
  {
   "cell_type": "code",
   "execution_count": 2,
   "id": "3815f1b7",
   "metadata": {},
   "outputs": [],
   "source": [
    "corpus = open('F:\\dataset-CalheirosMoroRita-2017.csv').read()"
   ]
  },
  {
   "cell_type": "code",
   "execution_count": 15,
   "id": "320c4f9c",
   "metadata": {},
   "outputs": [],
   "source": [
    "docs = corpus.split('\\n')"
   ]
  },
  {
   "cell_type": "code",
   "execution_count": 16,
   "id": "ad1db317",
   "metadata": {},
   "outputs": [],
   "source": [
    "from sklearn.feature_extraction.text import TfidfVectorizer"
   ]
  },
  {
   "cell_type": "code",
   "execution_count": 17,
   "id": "55fb59de",
   "metadata": {},
   "outputs": [],
   "source": [
    "vec = TfidfVectorizer()"
   ]
  },
  {
   "cell_type": "code",
   "execution_count": 18,
   "id": "79a054da",
   "metadata": {},
   "outputs": [],
   "source": [
    "matrix_X = vec.fit_transform(docs)"
   ]
  },
  {
   "cell_type": "code",
   "execution_count": 19,
   "id": "67c09695",
   "metadata": {},
   "outputs": [
    {
     "data": {
      "text/plain": [
       "<653x2457 sparse matrix of type '<class 'numpy.float64'>'\n",
       "\twith 14789 stored elements in Compressed Sparse Row format>"
      ]
     },
     "execution_count": 19,
     "metadata": {},
     "output_type": "execute_result"
    }
   ],
   "source": [
    "# topic modeling would reduce the dimension \n",
    "matrix_X "
   ]
  },
  {
   "cell_type": "code",
   "execution_count": 21,
   "id": "bb7c0fe9",
   "metadata": {},
   "outputs": [],
   "source": [
    "from sklearn.decomposition import LatentDirichletAllocation"
   ]
  },
  {
   "cell_type": "code",
   "execution_count": 24,
   "id": "8e6d5798",
   "metadata": {},
   "outputs": [],
   "source": [
    "lda = LatentDirichletAllocation(n_components = 6)"
   ]
  },
  {
   "cell_type": "code",
   "execution_count": 25,
   "id": "61461a4e",
   "metadata": {},
   "outputs": [
    {
     "data": {
      "text/plain": [
       "LatentDirichletAllocation(n_components=6)"
      ]
     },
     "execution_count": 25,
     "metadata": {},
     "output_type": "execute_result"
    }
   ],
   "source": [
    "lda.fit(matrix_X) "
   ]
  },
  {
   "cell_type": "code",
   "execution_count": 26,
   "id": "d9b10cf4",
   "metadata": {},
   "outputs": [
    {
     "data": {
      "text/plain": [
       "array([[0.16667037, 0.16754915, 0.16667478, ..., 0.16807818, 0.16667731,\n",
       "        0.16667052],\n",
       "       [0.16730795, 1.47105281, 1.72407089, ..., 0.65229303, 1.17114538,\n",
       "        0.1669733 ],\n",
       "       [0.70791728, 0.16764169, 0.16667301, ..., 0.16667335, 0.16667495,\n",
       "        0.1666697 ],\n",
       "       [0.16667054, 0.16698366, 0.16667515, ..., 0.17967555, 0.16667774,\n",
       "        0.1666707 ],\n",
       "       [0.16667022, 0.16747628, 0.16667439, ..., 0.16667411, 0.16738956,\n",
       "        0.16667034],\n",
       "       [0.16667034, 0.16744876, 0.16667471, ..., 0.1667018 , 0.16740376,\n",
       "        0.5941514 ]])"
      ]
     },
     "execution_count": 26,
     "metadata": {},
     "output_type": "execute_result"
    }
   ],
   "source": [
    "lda.components_"
   ]
  },
  {
   "cell_type": "code",
   "execution_count": 28,
   "id": "dfdf5a48",
   "metadata": {},
   "outputs": [],
   "source": [
    "features = vec.get_feature_names()"
   ]
  },
  {
   "cell_type": "code",
   "execution_count": 43,
   "id": "12f08bd4",
   "metadata": {},
   "outputs": [
    {
     "name": "stdout",
     "output_type": "stream",
     "text": [
      "id : 0\n",
      "word IDs : [2037 1044 1710 ... 1729 2324 1615]\n",
      "word : ['specially', 'hello', 'pro', 'friends', 'heart', 'absolute', 'delightful', 'dear', 'delighted']\n",
      "prob : [1.4888897099786886, 1.168062656259983, 1.1666422881383334, 0.9563397521570269, 0.9207857317238687, 0.9141078611636867, 0.9113964072801937, 0.8830698522322565, 0.8780328837601138]\n",
      "id : 1\n",
      "word IDs : [2180  108 2366 ... 1565 2063 1296]\n",
      "word : ['the', 'and', 'we', 'to', 'you', 'for', 'thank', 'in', 'is']\n",
      "prob : [64.09539325149551, 44.48037653987232, 38.58274587686219, 36.98635552664132, 35.07891853696008, 27.30253138642393, 24.913055471548454, 23.24093428375065, 22.680009017900083]\n",
      "id : 2\n",
      "word IDs : [1394 1702 1849 ...  306  291   29]\n",
      "word : ['menu', 'price', 'review', 'vegetarian', 'of', 'me', 'the', 'cute', 'family']\n",
      "prob : [3.595059528778893, 2.2917054964580528, 1.9478971197362063, 1.830965280889882, 1.7375328957463356, 1.674138837870727, 1.6114644773584985, 1.5861819360982798, 1.4948013511256837]\n",
      "id : 3\n",
      "word IDs : [1786   35  489 ...   29 2324 1615]\n",
      "word : ['recommend', 'above', 'cool', 'pretty', 'sympathy', 'certainly', 'expectations', 'times', 'although']\n",
      "prob : [1.4932243295954784, 1.070946962609513, 0.93531382299053, 0.8159027217249627, 0.7623676615454822, 0.7621340408226487, 0.7569339881198947, 0.7519233771186173, 0.7479150220575174]\n",
      "id : 4\n",
      "word IDs : [ 805 2330 2112 ...   29 2324 1615]\n",
      "word : ['extraordinary', 'villa', 'super', 'kind', 'hug', 'grateful', 'regards', 'available', 'amazingly']\n",
      "prob : [1.8993057681808891, 1.6043813016595094, 1.4930888544182, 1.0737972427881661, 1.0542000145572001, 1.0007512333937225, 0.9515339830251837, 0.931120531535375, 0.9281908750991171]\n",
      "id : 5\n",
      "word IDs : [1658  867  548 ...   29 2324 1615]\n",
      "word : ['pleasant', 'first', 'dear', 'philip', 'spend', 'wedding', 'maria', 'liked', 'peace']\n",
      "prob : [2.6048085393502802, 2.2454134916780273, 1.6325910620945379, 1.6308693014754072, 1.604340825534019, 1.5196100808589172, 1.270000227556107, 1.078136271522377, 1.0644572621249444]\n"
     ]
    }
   ],
   "source": [
    "for tid,topic in enumerate(lda.components_):\n",
    "    print('id :' ,tid)\n",
    "    print('word IDs :',topic.argsort()[::-1])\n",
    "    print('word :',[features[i] for i in topic.argsort()[:-10:-1]])\n",
    "    print('prob :',[topic[i] for i in topic.argsort()[:-10:-1]])\n",
    "    "
   ]
  },
  {
   "cell_type": "code",
   "execution_count": null,
   "id": "8122ae67",
   "metadata": {},
   "outputs": [],
   "source": []
  }
 ],
 "metadata": {
  "kernelspec": {
   "display_name": "Python 3 (ipykernel)",
   "language": "python",
   "name": "python3"
  },
  "language_info": {
   "codemirror_mode": {
    "name": "ipython",
    "version": 3
   },
   "file_extension": ".py",
   "mimetype": "text/x-python",
   "name": "python",
   "nbconvert_exporter": "python",
   "pygments_lexer": "ipython3",
   "version": "3.9.7"
  }
 },
 "nbformat": 4,
 "nbformat_minor": 5
}
