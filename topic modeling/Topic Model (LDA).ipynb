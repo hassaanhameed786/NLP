{
 "cells": [
  {
   "cell_type": "code",
   "execution_count": 2,
   "id": "e739dd27",
   "metadata": {},
   "outputs": [],
   "source": [
    "corpus = ['bread bread bread bread bread bread  bread bread bread bread',\n",
    "         'milk milk milk milk milk milk milk milk milk milk milk milk',\n",
    "         'pet pet pet pet pet pet pet pet pet pet pet pet pet pet pet',\n",
    "         'cat cat cat cat cat cat cat cat cat cat cat cat cat cat cat',\n",
    "         'bread bread bread bread bread bread bread bread bread bread milk milk milk milk milk milkmilk milk milk milk']"
   ]
  },
  {
   "cell_type": "code",
   "execution_count": 3,
   "id": "3eab38b9",
   "metadata": {},
   "outputs": [],
   "source": [
    " # first text represent into vectorization\n",
    "from sklearn.feature_extraction.text import CountVectorizer"
   ]
  },
  {
   "cell_type": "code",
   "execution_count": 4,
   "id": "4bbb9607",
   "metadata": {},
   "outputs": [],
   "source": [
    "vec = CountVectorizer()"
   ]
  },
  {
   "cell_type": "code",
   "execution_count": 5,
   "id": "ac3ad63b",
   "metadata": {},
   "outputs": [],
   "source": [
    " # 5x5 sparse matrix \n",
    "matrix_X = vec.fit_transform(corpus)"
   ]
  },
  {
   "cell_type": "code",
   "execution_count": 6,
   "id": "c9c48fda",
   "metadata": {},
   "outputs": [
    {
     "data": {
      "text/plain": [
       "<5x5 sparse matrix of type '<class 'numpy.int64'>'\n",
       "\twith 7 stored elements in Compressed Sparse Row format>"
      ]
     },
     "execution_count": 6,
     "metadata": {},
     "output_type": "execute_result"
    }
   ],
   "source": [
    "matrix_X"
   ]
  },
  {
   "cell_type": "code",
   "execution_count": 7,
   "id": "53fda500",
   "metadata": {},
   "outputs": [],
   "source": [
    "from sklearn.decomposition import LatentDirichletAllocation"
   ]
  },
  {
   "cell_type": "code",
   "execution_count": 8,
   "id": "f835ecb5",
   "metadata": {},
   "outputs": [],
   "source": [
    "lda = LatentDirichletAllocation(n_components = 2 ) # 2 topics in this case "
   ]
  },
  {
   "cell_type": "code",
   "execution_count": 9,
   "id": "0b612dc6",
   "metadata": {},
   "outputs": [
    {
     "data": {
      "text/plain": [
       "LatentDirichletAllocation(n_components=2)"
      ]
     },
     "execution_count": 9,
     "metadata": {},
     "output_type": "execute_result"
    }
   ],
   "source": [
    "lda.fit(matrix_X)"
   ]
  },
  {
   "cell_type": "markdown",
   "id": "4c524f8a",
   "metadata": {},
   "source": [
    "This would clear that in topic modeling uses soft clustering "
   ]
  },
  {
   "cell_type": "code",
   "execution_count": 10,
   "id": "f6699771",
   "metadata": {},
   "outputs": [
    {
     "data": {
      "text/plain": [
       "array([[ 0.50205816, 15.49901305,  0.50191435,  0.50136996, 15.49901305],\n",
       "       [20.49794184,  0.50098695, 20.49808565,  1.49863004,  0.50098695]])"
      ]
     },
     "execution_count": 10,
     "metadata": {},
     "output_type": "execute_result"
    }
   ],
   "source": [
    "lda.components_"
   ]
  },
  {
   "cell_type": "code",
   "execution_count": 11,
   "id": "6d0dd9ba",
   "metadata": {},
   "outputs": [
    {
     "data": {
      "text/plain": [
       "{'bread': 0, 'milk': 2, 'pet': 4, 'cat': 1, 'milkmilk': 3}"
      ]
     },
     "execution_count": 11,
     "metadata": {},
     "output_type": "execute_result"
    }
   ],
   "source": [
    "vec.vocabulary_"
   ]
  },
  {
   "cell_type": "code",
   "execution_count": 14,
   "id": "f292d092",
   "metadata": {},
   "outputs": [],
   "source": [
    "features = vec.get_feature_names()"
   ]
  },
  {
   "cell_type": "code",
   "execution_count": 20,
   "id": "feb87441",
   "metadata": {},
   "outputs": [
    {
     "name": "stdout",
     "output_type": "stream",
     "text": [
      "topic 0\n",
      "word_ids : [3 2 0 4 1]\n",
      "words :  ['milkmilk', 'milk', 'bread', 'pet', 'cat']\n",
      "probability :  ['milkmilk', 'milk', 'bread', 'pet', 'cat']\n",
      "topic 1\n",
      "word_ids : [1 4 3 0 2]\n",
      "words :  ['cat', 'pet', 'milkmilk', 'bread', 'milk']\n",
      "probability :  ['cat', 'pet', 'milkmilk', 'bread', 'milk']\n"
     ]
    }
   ],
   "source": [
    "# outcomes of topic modeling \n",
    "for tid, topic in enumerate(lda.components_):\n",
    "    print('topic', tid)# \n",
    "    print('word_ids :', topic.argsort())\n",
    "    print('words : ', [features[i] for i in topic.argsort()])\n",
    "    print('probability : ', [features[i] for i in topic.argsort()])"
   ]
  },
  {
   "cell_type": "code",
   "execution_count": null,
   "id": "2e6aba51",
   "metadata": {},
   "outputs": [],
   "source": []
  },
  {
   "cell_type": "code",
   "execution_count": null,
   "id": "81069d7e",
   "metadata": {},
   "outputs": [],
   "source": []
  },
  {
   "cell_type": "code",
   "execution_count": null,
   "id": "eaa113a7",
   "metadata": {},
   "outputs": [],
   "source": []
  },
  {
   "cell_type": "code",
   "execution_count": null,
   "id": "26160833",
   "metadata": {},
   "outputs": [],
   "source": []
  },
  {
   "cell_type": "code",
   "execution_count": null,
   "id": "c035355a",
   "metadata": {},
   "outputs": [],
   "source": []
  },
  {
   "cell_type": "code",
   "execution_count": null,
   "id": "df35dc47",
   "metadata": {},
   "outputs": [],
   "source": []
  }
 ],
 "metadata": {
  "kernelspec": {
   "display_name": "Python 3 (ipykernel)",
   "language": "python",
   "name": "python3"
  },
  "language_info": {
   "codemirror_mode": {
    "name": "ipython",
    "version": 3
   },
   "file_extension": ".py",
   "mimetype": "text/x-python",
   "name": "python",
   "nbconvert_exporter": "python",
   "pygments_lexer": "ipython3",
   "version": "3.9.7"
  }
 },
 "nbformat": 4,
 "nbformat_minor": 5
}
