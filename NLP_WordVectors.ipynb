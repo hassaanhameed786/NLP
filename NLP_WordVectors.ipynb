{
  "nbformat": 4,
  "nbformat_minor": 0,
  "metadata": {
    "colab": {
      "name": "NLP_WordVectors.ipynb",
      "provenance": [],
      "authorship_tag": "ABX9TyMNy1B+9DQhiGK2Ju4fUkSl",
      "include_colab_link": true
    },
    "kernelspec": {
      "name": "python3",
      "display_name": "Python 3"
    },
    "language_info": {
      "name": "python"
    }
  },
  "cells": [
    {
      "cell_type": "markdown",
      "metadata": {
        "id": "view-in-github",
        "colab_type": "text"
      },
      "source": [
        "<a href=\"https://colab.research.google.com/github/hassaanhameed786/NLP/blob/main/NLP_WordVectors.ipynb\" target=\"_parent\"><img src=\"https://colab.research.google.com/assets/colab-badge.svg\" alt=\"Open In Colab\"/></a>"
      ]
    },
    {
      "cell_type": "markdown",
      "source": [
        "# Word Vectors \n"
      ],
      "metadata": {
        "id": "VLzph4jCIx0e"
      }
    },
    {
      "cell_type": "code",
      "execution_count": 10,
      "metadata": {
        "id": "oeXAuXmdHygw"
      },
      "outputs": [],
      "source": [
        " class Category:\n",
        "  BOOKS =  \"BOOKS\"\n",
        "  CLOTHING = \"CLOTHING\"\n",
        "train_x = [\"I love the book\", \"this is the great book\", \"the fit is great\", \"i love my shoes\" ,  \"i like to read books\", \"t-shirt are best to fit\"]\n",
        "train_y = [Category.BOOKS, Category.BOOKS, Category.CLOTHING, Category.CLOTHING , Category.BOOKS, Category.CLOTHING]"
      ]
    },
    {
      "cell_type": "code",
      "source": [
        "pip install -U spacy"
      ],
      "metadata": {
        "id": "iiqgJoWJIjxa"
      },
      "execution_count": null,
      "outputs": []
    },
    {
      "cell_type": "code",
      "source": [
        "# pip install -U spacy\n",
        "!python -m spacy download en_core_web_sm"
      ],
      "metadata": {
        "id": "UkW6iEziI1G7"
      },
      "execution_count": null,
      "outputs": []
    },
    {
      "cell_type": "code",
      "source": [
        "import spacy"
      ],
      "metadata": {
        "id": "XNhelL8eIwDw"
      },
      "execution_count": 8,
      "outputs": []
    },
    {
      "cell_type": "code",
      "source": [
        "# Load English tokenizer, tagger, parser and NER\n",
        "nlp = spacy.load(\"en_core_web_sm\")\n"
      ],
      "metadata": {
        "id": "yn3C3TspJ72e"
      },
      "execution_count": 9,
      "outputs": []
    },
    {
      "cell_type": "code",
      "source": [
        "docs = [nlp(text) for text in train_x ] # average the words \n",
        "train_x_word_vectors = [i.vector for i in docs]"
      ],
      "metadata": {
        "id": "oQ6AERgHJ_qB"
      },
      "execution_count": 27,
      "outputs": []
    },
    {
      "cell_type": "code",
      "source": [
        "print(train_x)"
      ],
      "metadata": {
        "colab": {
          "base_uri": "https://localhost:8080/"
        },
        "id": "zEMM0cw-PW9t",
        "outputId": "74f329fe-ebe1-40ea-d363-f95504dbc809"
      },
      "execution_count": 23,
      "outputs": [
        {
          "output_type": "stream",
          "name": "stdout",
          "text": [
            "['I love the book', 'this is the great book', 'the fit is great', 'i love my shoes', 'i like to read books', 't-shirt are best to fit']\n"
          ]
        }
      ]
    },
    {
      "cell_type": "code",
      "source": [
        "print(docs[0].vector) # words embedding for the \"i love the book\""
      ],
      "metadata": {
        "colab": {
          "base_uri": "https://localhost:8080/"
        },
        "id": "9lV9WxaKPhxG",
        "outputId": "e2a414d0-937b-4ab2-9f9c-26e751df5ecb"
      },
      "execution_count": 24,
      "outputs": [
        {
          "output_type": "stream",
          "name": "stdout",
          "text": [
            "[-0.342913    0.0802131  -0.46668598  0.3729925   0.4499785   0.11435869\n",
            " -0.16623268 -0.14264965  0.53726447  0.2909663  -0.09515212  0.02650874\n",
            " -0.3619349  -0.65267646  1.1853417  -0.1268892   0.82524276  0.16632952\n",
            "  0.23397937  0.05002134 -0.40326244 -0.6871555   0.02442835  0.49135482\n",
            " -0.26185012 -0.22699602 -0.24270755 -0.57692844  0.28418064 -0.4776803\n",
            "  0.5746418  -0.94288135  0.25016892 -0.23701051 -0.08219736 -0.399423\n",
            " -0.5899163   0.00279904 -0.22529438  0.07309346 -0.4984057  -0.49304867\n",
            "  0.62530696  0.17345569  0.08581737 -0.63400924  0.2830858  -0.40117642\n",
            "  0.759026   -0.24969456  0.10777368  0.52028364  0.3796101  -0.757313\n",
            " -0.28311613  0.4165306  -0.5871441   0.61097324  0.5222421  -0.63014936\n",
            " -0.16299102 -0.09224243  0.2194556   0.16411299  0.22476166  0.08328551\n",
            "  0.20158118 -0.4657526   0.17292005 -0.64038384  0.1048398  -0.0842821\n",
            " -0.14465356  0.17527255 -0.48983747 -0.55039376 -0.36582863  0.4829134\n",
            "  0.4847356  -0.13788678 -0.05884761 -0.25412947  0.63430125  0.5344818\n",
            " -0.2979692  -0.27285177  0.11235279  0.07775532 -0.50903624  1.0807275\n",
            " -0.27084225 -0.03463115 -0.16046719  0.134356    0.41091835  0.37294894]\n"
          ]
        }
      ]
    },
    {
      "cell_type": "code",
      "source": [
        "# apply classifer to predict words embedding\n",
        "from sklearn import svm\n",
        "clf_svm= svm.SVC(kernel='linear')"
      ],
      "metadata": {
        "id": "18toaF_MRhFj"
      },
      "execution_count": 29,
      "outputs": []
    },
    {
      "cell_type": "code",
      "source": [
        "clf_svm.fit(train_x_word_vectors, train_y)"
      ],
      "metadata": {
        "colab": {
          "base_uri": "https://localhost:8080/"
        },
        "id": "e9f0FGoTSGPN",
        "outputId": "1ac2fc55-fbc8-424a-c859-f800c819dbd0"
      },
      "execution_count": 31,
      "outputs": [
        {
          "output_type": "execute_result",
          "data": {
            "text/plain": [
              "SVC(kernel='linear')"
            ]
          },
          "metadata": {},
          "execution_count": 31
        }
      ]
    },
    {
      "cell_type": "code",
      "source": [
        "# test_X =[\"i love to write a story\"]\n",
        "# test_X =[\"i like caps\"]\n",
        "test_X =[\"i write a documentation  \"]\n",
        "test_docs = [nlp(text) for text in test_X ]\n",
        "test_x_word_vectors = [x.vector for x in test_docs ]"
      ],
      "metadata": {
        "id": "0CBFbnAXVUFz"
      },
      "execution_count": 52,
      "outputs": []
    },
    {
      "cell_type": "code",
      "source": [
        "clf_svm.predict(test_x_word_vectors)"
      ],
      "metadata": {
        "colab": {
          "base_uri": "https://localhost:8080/"
        },
        "id": "5Q5G6tG8UZVI",
        "outputId": "0a3d7816-914d-4053-abdc-2da9378a1615"
      },
      "execution_count": 45,
      "outputs": [
        {
          "output_type": "execute_result",
          "data": {
            "text/plain": [
              "array(['BOOKS'], dtype='<U8')"
            ]
          },
          "metadata": {},
          "execution_count": 45
        }
      ]
    },
    {
      "cell_type": "code",
      "source": [
        "clf_svm.predict(test_x_word_vectors)"
      ],
      "metadata": {
        "colab": {
          "base_uri": "https://localhost:8080/"
        },
        "id": "aqS4XJg0XP4a",
        "outputId": "ffa1b1f3-3dc0-4ed8-ea6e-a2415eee104f"
      },
      "execution_count": 47,
      "outputs": [
        {
          "output_type": "execute_result",
          "data": {
            "text/plain": [
              "array(['CLOTHING'], dtype='<U8')"
            ]
          },
          "metadata": {},
          "execution_count": 47
        }
      ]
    },
    {
      "cell_type": "code",
      "source": [
        "clf_svm.predict(test_x_word_vectors)"
      ],
      "metadata": {
        "colab": {
          "base_uri": "https://localhost:8080/"
        },
        "id": "4erPibB2Xk8l",
        "outputId": "2efaa12d-8a13-4492-c295-3f64fcaca2e9"
      },
      "execution_count": 53,
      "outputs": [
        {
          "output_type": "execute_result",
          "data": {
            "text/plain": [
              "array(['BOOKS'], dtype='<U8')"
            ]
          },
          "metadata": {},
          "execution_count": 53
        }
      ]
    },
    {
      "cell_type": "code",
      "source": [
        ""
      ],
      "metadata": {
        "id": "RbbhJYr1YDCi"
      },
      "execution_count": null,
      "outputs": []
    }
  ]
}